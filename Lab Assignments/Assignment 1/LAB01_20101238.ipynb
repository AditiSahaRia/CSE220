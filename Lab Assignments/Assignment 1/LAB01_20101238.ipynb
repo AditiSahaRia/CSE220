{
  "nbformat": 4,
  "nbformat_minor": 0,
  "metadata": {
    "colab": {
      "name": "01 Answer.ipynb",
      "provenance": [],
      "collapsed_sections": []
    },
    "kernelspec": {
      "name": "python3",
      "display_name": "Python 3"
    }
  },
  "cells": [
    {
      "cell_type": "code",
      "metadata": {
        "colab": {
          "base_uri": "https://localhost:8080/",
          "height": 0
        },
        "id": "X68c3abdc_PE",
        "outputId": "5a8e156f-c86d-4efb-9e44-6702e93fb649"
      },
      "source": [
        "#Aditi Saha Ria\r\n",
        "#ID:20101238\r\n",
        "#Task_01 of Linear Arrays\r\n",
        "def shiftLeft( source, k):\r\n",
        "    i = 0\r\n",
        "    index = k\r\n",
        "    last_index = 1\r\n",
        "    while(i<len(source)-k):\r\n",
        "        source[i]= source[index]\r\n",
        "        i = i+1\r\n",
        "        index = index+1\r\n",
        "    while(last_index<=k):\r\n",
        "      source[len(source)-last_index] = 0\r\n",
        "      last_index = last_index+1\r\n",
        "    return source\r\n",
        "\r\n",
        "shiftLeft([10,20,30,40,50,60], 4)\r\n"
      ],
      "execution_count": 19,
      "outputs": [
        {
          "output_type": "execute_result",
          "data": {
            "text/plain": [
              "[50, 60, 0, 0, 0, 0]"
            ]
          },
          "metadata": {
            "tags": []
          },
          "execution_count": 19
        }
      ]
    },
    {
      "cell_type": "code",
      "metadata": {
        "colab": {
          "base_uri": "https://localhost:8080/"
        },
        "id": "fmRQUsaopuO3",
        "outputId": "c580fb79-0dcf-4676-ae7d-954c04afaa7e"
      },
      "source": [
        "#Aditi Saha Ria\r\n",
        "#ID:20101238\r\n",
        "#Task_02 of Linear Arrays\r\n",
        "def rotateLeft( source, k):\r\n",
        "    i = 0\r\n",
        "    j = 0\r\n",
        "    l = 0\r\n",
        "    index = k\r\n",
        "    next_index = k\r\n",
        "    last_index = 1\r\n",
        "    new_source = ['']*len(source)\r\n",
        "    while(j<k):\r\n",
        "      new_source[l] = source[j]\r\n",
        "      j = j+1\r\n",
        "      l = l+1\r\n",
        "    while(i<len(source)-k):\r\n",
        "        source[i]= source[index]\r\n",
        "        i = i+1\r\n",
        "        index = index+1\r\n",
        "    while(last_index<=k):\r\n",
        "      source[len(source)-last_index] = new_source[next_index-1]\r\n",
        "      last_index = last_index+1\r\n",
        "      next_index = next_index-1\r\n",
        "    return source\r\n",
        "rotateLeft([10,20,30,40,50,60], 1)"
      ],
      "execution_count": 42,
      "outputs": [
        {
          "output_type": "execute_result",
          "data": {
            "text/plain": [
              "[20, 30, 40, 50, 60, 10]"
            ]
          },
          "metadata": {
            "tags": []
          },
          "execution_count": 42
        }
      ]
    },
    {
      "cell_type": "code",
      "metadata": {
        "colab": {
          "base_uri": "https://localhost:8080/",
          "height": 0
        },
        "id": "yXf3bHX4r3TB",
        "outputId": "56f5988c-ade5-47b0-cce4-eb9edc8b72fd"
      },
      "source": [
        "#Aditi Saha Ria\r\n",
        "#ID:20101238\r\n",
        "#Task_03 of Linear Arrays\r\n",
        "def remove( source, size, idx):\r\n",
        "    while(idx<size-1):\r\n",
        "        source[idx]= source[idx+1]\r\n",
        "        idx = idx+1\r\n",
        "    source[size-1] = 0\r\n",
        "    return source\r\n",
        "remove([10,20,30,40,50,0], 5, 2)"
      ],
      "execution_count": 21,
      "outputs": [
        {
          "output_type": "execute_result",
          "data": {
            "text/plain": [
              "[10, 20, 40, 50, 0, 0]"
            ]
          },
          "metadata": {
            "tags": []
          },
          "execution_count": 21
        }
      ]
    },
    {
      "cell_type": "code",
      "metadata": {
        "id": "OU_9VTzN2sI2",
        "colab": {
          "base_uri": "https://localhost:8080/",
          "height": 0
        },
        "outputId": "77e0b422-bb65-4611-e85e-cd60d76477c2"
      },
      "source": [
        "#Aditi Saha Ria\r\n",
        "#ID:20101238\r\n",
        "#Task_04 of Linear Arrays\r\n",
        "def removeAll( source, size, element):\r\n",
        "  i = 0\r\n",
        "  while(i<size):\r\n",
        "    if source[i]==element:\r\n",
        "      j = i\r\n",
        "      while(j<size-1):\r\n",
        "        source[j]=source[j+1]\r\n",
        "        j = j+1\r\n",
        "      source[size-1] = 0\r\n",
        "      i = 0\r\n",
        "    else:\r\n",
        "      i = i+1\r\n",
        "  return source\r\n",
        "removeAll([10,2,30,2,50,2,2,0,0],7,2)"
      ],
      "execution_count": 22,
      "outputs": [
        {
          "output_type": "execute_result",
          "data": {
            "text/plain": [
              "[10, 30, 50, 0, 0, 0, 0, 0, 0]"
            ]
          },
          "metadata": {
            "tags": []
          },
          "execution_count": 22
        }
      ]
    },
    {
      "cell_type": "code",
      "metadata": {
        "colab": {
          "base_uri": "https://localhost:8080/",
          "height": 0
        },
        "id": "TySm7h65_ZZf",
        "outputId": "7019826e-312a-4f4e-b111-cf734b6d49e1"
      },
      "source": [
        "#Aditi Saha Ria\r\n",
        "#ID:20101238\r\n",
        "#Task_05 of Linear Arrays\r\n",
        "def split(array):\r\n",
        "  result = False\r\n",
        "  sum1 = 0\r\n",
        "  sum2 = 0\r\n",
        "  for i in range(len(array)):\r\n",
        "    sum1 += array[i]\r\n",
        "    for j in range(i+1, len(array)):\r\n",
        "      sum2 += array[j]\r\n",
        "    if sum2==sum1:\r\n",
        "      result = True\r\n",
        "      break\r\n",
        "    sum2 = 0\r\n",
        "  return result\r\n",
        "split([10, 3, 1, 2, 10])\r\n"
      ],
      "execution_count": 17,
      "outputs": [
        {
          "output_type": "execute_result",
          "data": {
            "text/plain": [
              "True"
            ]
          },
          "metadata": {
            "tags": []
          },
          "execution_count": 17
        }
      ]
    },
    {
      "cell_type": "code",
      "metadata": {
        "colab": {
          "base_uri": "https://localhost:8080/"
        },
        "id": "jXhV9oGMATsx",
        "outputId": "215ba169-8bc0-4620-d1a4-89696892a6ff"
      },
      "source": [
        "#Aditi Saha Ria\r\n",
        "#ID:20101238\r\n",
        "#Task_06 of Linear Arrays\r\n",
        "def series(n):\r\n",
        "  array = ['']*n*n\r\n",
        "  l = 0\r\n",
        "  for i in range(n):\r\n",
        "    for j in range(n-(i+1)):\r\n",
        "      array[l] = 0\r\n",
        "      l += 1\r\n",
        "    k = i+1\r\n",
        "    while k>0:\r\n",
        "      array[l] = k\r\n",
        "      k -= 1\r\n",
        "      l += 1\r\n",
        "  return array\r\n",
        "series(4)"
      ],
      "execution_count": 44,
      "outputs": [
        {
          "output_type": "execute_result",
          "data": {
            "text/plain": [
              "[0, 0, 0, 1, 0, 0, 2, 1, 0, 3, 2, 1, 4, 3, 2, 1]"
            ]
          },
          "metadata": {
            "tags": []
          },
          "execution_count": 44
        }
      ]
    },
    {
      "cell_type": "code",
      "metadata": {
        "id": "83FO-dVUWfAZ",
        "colab": {
          "base_uri": "https://localhost:8080/",
          "height": 0
        },
        "outputId": "438f0acb-21fd-4189-daa9-1275ebcf9313"
      },
      "source": [
        "#Aditi Saha Ria\r\n",
        "#ID:20101238\r\n",
        "#Task_07 of Linear Arrays\r\n",
        "def bunch(array):\r\n",
        "  count = 0\r\n",
        "  big_bunch = 0\r\n",
        "  for i in range(len(array)-1):\r\n",
        "    if array[i] == array[i+1]:\r\n",
        "      count += 1\r\n",
        "    else:\r\n",
        "      count = 0\r\n",
        "    if count > big_bunch:\r\n",
        "        big_bunch = count\r\n",
        "  return big_bunch+1\r\n",
        "bunch([1,1,2,2,2,3,3,3,3,3,3,1,1,1,1])"
      ],
      "execution_count": 6,
      "outputs": [
        {
          "output_type": "execute_result",
          "data": {
            "text/plain": [
              "6"
            ]
          },
          "metadata": {
            "tags": []
          },
          "execution_count": 6
        }
      ]
    },
    {
      "cell_type": "code",
      "metadata": {
        "colab": {
          "base_uri": "https://localhost:8080/",
          "height": 0
        },
        "id": "5_eZv1BR24tv",
        "outputId": "3cc4f324-cc82-4899-e821-1ffd58da40c1"
      },
      "source": [
        "#Aditi Saha Ria\r\n",
        "#ID:20101238\r\n",
        "#Task_08 of Linear Arrays\r\n",
        "def repetition(array):\r\n",
        "  frst = 0\r\n",
        "  scnd = 0\r\n",
        "  count = 0\r\n",
        "  ans = False\r\n",
        "  for i in range(len(array)-1):\r\n",
        "    for j in range(i+1,len(array)):\r\n",
        "      if array[j] == array[i]:\r\n",
        "        frst += 1\r\n",
        "    if scnd == frst:\r\n",
        "      ans = True\r\n",
        "    elif count == frst:\r\n",
        "      ans = True\r\n",
        "    if frst>1:\r\n",
        "      scnd = frst\r\n",
        "    if frst>scnd:\r\n",
        "      count = frst\r\n",
        "    frst = 0\r\n",
        "  return ans\r\n",
        "repetition([3,7,7,4,7,6,3,4,7,4,6,8,6,6])"
      ],
      "execution_count": 11,
      "outputs": [
        {
          "output_type": "execute_result",
          "data": {
            "text/plain": [
              "True"
            ]
          },
          "metadata": {
            "tags": []
          },
          "execution_count": 11
        }
      ]
    },
    {
      "cell_type": "code",
      "metadata": {
        "id": "QfGt_rX8I8Na",
        "colab": {
          "base_uri": "https://localhost:8080/",
          "height": 0
        },
        "outputId": "5cb86d66-cf14-4ec9-8682-c317c01c0a38"
      },
      "source": [
        "#Aditi Saha Ria\r\n",
        "#ID:20101238\r\n",
        "#Task_01 of Circular Arrays\r\n",
        "def circularPalindrome(array, start, size):\r\n",
        "  index = 0\r\n",
        "  status = 0\r\n",
        "  if start != 0:\r\n",
        "    for i in range(len(array)):\r\n",
        "      if array[i]==0:\r\n",
        "        index = i\r\n",
        "        break\r\n",
        "    index = index-1\r\n",
        "  for i in range(start,len(array)):\r\n",
        "    if array[i] != array[index]:\r\n",
        "      status += 1\r\n",
        "      return False\r\n",
        "    if index == 0:\r\n",
        "      break\r\n",
        "    else:\r\n",
        "      index = index-1\r\n",
        "  if status == 0:\r\n",
        "    return True\r\n",
        "  else:\r\n",
        "    return False\r\n",
        "circularPalindrome([30,20,10,0,0,10,20,30], 5, 6)"
      ],
      "execution_count": 23,
      "outputs": [
        {
          "output_type": "execute_result",
          "data": {
            "text/plain": [
              "True"
            ]
          },
          "metadata": {
            "tags": []
          },
          "execution_count": 23
        }
      ]
    },
    {
      "cell_type": "code",
      "metadata": {
        "colab": {
          "base_uri": "https://localhost:8080/"
        },
        "id": "MSWUTeDcUi-c",
        "outputId": "0e1fad8d-cf57-4a4a-fd0a-225e240a6800"
      },
      "source": [
        "#Aditi Saha Ria\r\n",
        "#ID:20101238\r\n",
        "#Task_02 of Circular Arrays\r\n",
        "def intersection(array_01, start_1, size_1, array_02, start_2, size_2):\r\n",
        "  count = 0\r\n",
        "  index = start_1\r\n",
        "  i = 0\r\n",
        "  j = 0\r\n",
        "  l = 0\r\n",
        "  while(i<size_1):\r\n",
        "    if array_01[index] in array_02:\r\n",
        "      count += 1\r\n",
        "    index=(index+1)%len(array_01)\r\n",
        "    i = i+1\r\n",
        "  linear_array = ['']*count\r\n",
        "  i = 0\r\n",
        "  index = start_1\r\n",
        "  while(i<size_1):\r\n",
        "    if array_01[index] in array_02:\r\n",
        "      linear_array[l] = array_01[index]\r\n",
        "      l += 1\r\n",
        "    index=(index+1)%len(array_01)\r\n",
        "    i += 1\r\n",
        "  return linear_array\r\n",
        "\r\n",
        "intersection([40,5,0,0,0,10,20,30], 5, 5, [10,20,5,0,0,0,0,0,5,40,15,25], 8, 7)"
      ],
      "execution_count": 48,
      "outputs": [
        {
          "output_type": "execute_result",
          "data": {
            "text/plain": [
              "[10, 20, 40, 5]"
            ]
          },
          "metadata": {
            "tags": []
          },
          "execution_count": 48
        }
      ]
    }
  ]
}